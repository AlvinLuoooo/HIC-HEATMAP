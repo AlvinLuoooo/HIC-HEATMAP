{
 "cells": [
  {
   "cell_type": "code",
   "execution_count": 1,
   "id": "75ba1023-62b6-4a9c-9b7b-5e68430ff9df",
   "metadata": {},
   "outputs": [],
   "source": [
    "import contig"
   ]
  },
  {
   "cell_type": "code",
   "execution_count": 11,
   "id": "62de7459-5a3b-45a4-9457-790bc9b40e98",
   "metadata": {},
   "outputs": [],
   "source": [
    "import chro_use as cu"
   ]
  },
  {
   "cell_type": "code",
   "execution_count": 3,
   "id": "179f0318-0554-4f00-bc3f-e4c018d1b085",
   "metadata": {},
   "outputs": [],
   "source": [
    "import column"
   ]
  },
  {
   "cell_type": "code",
   "execution_count": 84,
   "id": "f75b9a49-47c3-45cd-8260-7f0712db958c",
   "metadata": {},
   "outputs": [],
   "source": [
    "%config InlineBackend.figure_format = 'svg'\n",
    "import re\n",
    "import json\n",
    "import numpy as np\n",
    "import pandas as pd\n",
    "import cooler\n",
    "import matplotlib.pyplot as plt\n",
    "import matplotlib.colors as colors\n",
    "import chromosight.utils.contacts_map as mapp\n",
    "from IPython.display import display\n",
    "import chromosight.utils.io as io\n",
    "%matplotlib inline\n",
    "from scipy.signal import find_peaks\n",
    "from scipy import ndimage as ndi\n",
    "import matplotlib.pyplot as plt\n",
    "from skimage.feature import peak_local_max\n",
    "from skimage.transform import resize\n",
    "from skimage import data, img_as_float\n",
    "import cv2\n",
    "from operator import itemgetter\n",
    "from findpeaks import findpeaks\n",
    "from scipy import signal\n",
    "from hic2cool import hic2cool_convert\n",
    "import networkx as nx"
   ]
  },
  {
   "cell_type": "code",
   "execution_count": 2,
   "id": "0295cb06-41d6-48ce-a845-72af6b414592",
   "metadata": {},
   "outputs": [
    {
     "name": "stdout",
     "output_type": "stream",
     "text": [
      "1\n"
     ]
    }
   ],
   "source": [
    "print(1)"
   ]
  },
  {
   "cell_type": "code",
   "execution_count": 5,
   "id": "b7b831d5-1ebf-44a2-af1c-58883d9abaec",
   "metadata": {},
   "outputs": [],
   "source": [
    "def l_n_scatter(dic):\n",
    "    ne_dic = {}\n",
    "    for i in range(13):\n",
    "        new_list = []\n",
    "        for key,values in dic.items():\n",
    "            if len(values) == i:            \n",
    "                new_list.append(fish.get_length(all_dic.get(key),all_dic,'length'))\n",
    "            ne_dic[i] = new_list\n",
    "    \n",
    "    fig, ax = plt.subplots()\n",
    "\n",
    "    for x, ys in ne_dic.items():\n",
    "        try:\n",
    "            ax.scatter([x] * len(ys), ys,6)\n",
    "        except ValueError:  #raised if `y` is empty.\n",
    "            pass\n",
    "\n",
    "    plt.show()"
   ]
  },
  {
   "cell_type": "code",
   "execution_count": null,
   "id": "2d9d117f-4afd-46dc-afe2-f66b5be6b821",
   "metadata": {},
   "outputs": [],
   "source": [
    "def l_n_scatter(dic):\n",
    "    ne_dic = {}\n",
    "    for i in range(13):\n",
    "        new_list = []\n",
    "        for key,values in dic.items():\n",
    "            if len(values) == i:            \n",
    "                new_list.append(fish.get_length(all_dic.get(key),all_dic,'length'))\n",
    "            ne_dic[i] = new_list\n",
    "    \n",
    "    fig, ax = plt.subplots()\n",
    "\n",
    "    for x, ys in ne_dic.items():\n",
    "        try:\n",
    "            ax.scatter([x] * len(ys), ys,6)\n",
    "        except ValueError:  #raised if `y` is empty.\n",
    "            pass\n",
    "\n",
    "    plt.show()"
   ]
  },
  {
   "cell_type": "code",
   "execution_count": null,
   "id": "279ca69f-d072-45dc-b56c-b710d5e27336",
   "metadata": {},
   "outputs": [],
   "source": [
    " def peak_plot(dic):\n",
    "        \n",
    "        list_p = []\n",
    "        \n",
    "        for i in dic.values():\n",
    "            length = len(i)\n",
    "            list_p.append(length)\n",
    "        new_dic = {}\n",
    "        for j in range(35):\n",
    "            count = 0\n",
    "            for i in list_p:\n",
    "                if i == j:\n",
    "                    count = count + 1\n",
    "            new_dic[j] = count\n",
    "    \n",
    "        lists = sorted(new_dic.items()) # sorted by key, return a list of tuples\n",
    "\n",
    "        x, y = zip(*lists) # unpack a list of pairs into two tuples\n",
    "\n",
    "        plt.plot(x, y)\n",
    "        plt.xlabel('number of peaks')\n",
    "        plt.ylabel('number of contigs')\n",
    "\n",
    "        plt.show()\n",
    "        return new_dic"
   ]
  },
  {
   "cell_type": "code",
   "execution_count": null,
   "id": "7bb50d94-6bfc-4e50-b60b-2278a2b1549c",
   "metadata": {},
   "outputs": [],
   "source": [
    "def sift(gray,img):\n",
    "    sift = cv2.xfeatures2d.SIFT_create()\n",
    "    kp = sift.detect(gray,None)\n",
    "    img = cv2.drawKeypoints(gray,kp,img)\n",
    "    return img\n",
    "def show(src):\n",
    "    src = cv2.cvtColor(src,cv2.COLOR_BGR2RGB)\n",
    "    plt.imshow(src)\n",
    "def threshold(img,x):\n",
    "    ret, thresh = cv2.threshold(img,x,255,cv2.THRESH_BINARY)\n",
    "    return thresh\n",
    "def get_ids_cwd(matrix,big_matrix,dic,choro_frame):\n",
    "    matrix_mean = np.mean(matrix,axis = 0)\n",
    "    median_height = np.median(smooth_scaffold(matrix_mean))\n",
    "    peakind = signal.find_peaks_cwt(matrix_mean, np.arange(1,150))\n",
    "    iddd = get_contig_id(matrix,dic)\n",
    "    for i in peakind:\n",
    "        idd = find_location(big_matrix,choro_frame,dic,i)\n",
    "        print(iddd ,i, idd)"
   ]
  },
  {
   "cell_type": "code",
   "execution_count": 6,
   "id": "5b93cf0b-fbc3-4be3-b68b-aa80a99dc1bc",
   "metadata": {},
   "outputs": [],
   "source": [
    "def net_graph(dic,label = False,font_size = 5):\n",
    "    \n",
    "    a_dic = {}\n",
    "    for key,values in dic.items():\n",
    "        a_list = []\n",
    "        new_key = key[0:-12]\n",
    "        for i in values:\n",
    "            i = i[0:-12]\n",
    "            a_list.append(i)\n",
    "        a_dic[new_key] = a_list\n",
    "        \n",
    "    G = nx.Graph()\n",
    "    G.add_nodes_from(a_dic.keys())\n",
    "    for key,values in a_dic.items():\n",
    "        if len(values) == 1:\n",
    "            continue\n",
    "        vote_strength = 1/(len(values)-1)\n",
    "        for contig in values:\n",
    "            if contig != key:\n",
    "                G.add_edge(key,contig)\n",
    "    nx.draw_spring(G,node_size = 5,with_labels = label,font_size = font_size )"
   ]
  },
  {
   "cell_type": "code",
   "execution_count": null,
   "id": "1a5d0ebf-e390-47bf-b698-b641f0bab32d",
   "metadata": {},
   "outputs": [],
   "source": [
    "def generate_contig_peak(matrix,dic,chro_info,all_dic):\n",
    "    idd = get_contig_id(matrix,all_dic) \n",
    "    result = dic.get(idd)\n",
    "    for i in result:\n",
    "        matrixs = all_dic.get(i)\n",
    "        start = get_length(matrixs,all_dic,dtype = 'bin')[0]\n",
    "        if matrix.shape[0] < 200:\n",
    "            matrix = resize(matrix, (250, matrix.shape[1]))\n",
    "        ioa = get_length(matrixs,all_dic,dtype = 'length')\n",
    "        plt.imshow(matrix ** 0.02, cmap='afmhot_r',norm=colors.PowerNorm(gamma=0.45))\n",
    "        plt.plot(start,125,marker='.',color = 'green')\n",
    "        plt.axis('off')\n",
    "        plt.title(i+str(ioa))\n",
    "        plt.show() "
   ]
  },
  {
   "cell_type": "code",
   "execution_count": 7,
   "id": "00831a2e-4601-450e-9545-0ace0b0ffbe1",
   "metadata": {},
   "outputs": [],
   "source": [
    "def generate_contig_peak_m(matrix,dic,chro_info,all_dic):\n",
    "    idd = get_contig_id(matrix,all_dic) \n",
    "    result = dic.get(idd)\n",
    "    start_l = []\n",
    "    for i in result:\n",
    "        matrixs = all_dic.get(i)\n",
    "        start = get_length(matrixs,all_dic,dtype = 'bin')[0]\n",
    "        start_l.append(start)\n",
    "        print(i)\n",
    "    if matrix.shape[0] < 200:\n",
    "        matrix = resize(matrix, (250, matrix.shape[1]))\n",
    "        \n",
    "    plt.imshow(matrix ** 0.02, cmap='afmhot_r',norm=colors.PowerNorm(gamma=0.45))\n",
    "    plt.title(idd)\n",
    "    for i in start_l:\n",
    "        plt.plot(i,125,marker='.',color = 'green')\n",
    "        plt.axis('off')\n",
    "    plt.show()"
   ]
  },
  {
   "cell_type": "code",
   "execution_count": 4,
   "id": "44ad2376-a47c-413e-bd83-e2c1d997b90b",
   "metadata": {},
   "outputs": [],
   "source": [
    "def optimize_result_af(dic):\n",
    "    nnd={}\n",
    "    \n",
    "    for key,values in dic.items():\n",
    "        listt = []\n",
    "        for i in values:\n",
    "            result = dic.get(i)\n",
    "            if key in result:\n",
    "                listt.append(i)\n",
    "        nnd[key] = listt\n",
    "    return nnd\n",
    "                "
   ]
  },
  {
   "cell_type": "code",
   "execution_count": 22,
   "id": "9ab20ab8-5e0c-481b-8878-786af5f85fc6",
   "metadata": {},
   "outputs": [],
   "source": [
    "    def get_contig_id(matrix,my_dict):\n",
    "        for key, value in my_dict.items():\n",
    "            if np.array_equal(value,matrix):\n",
    "                return key\n",
    " \n",
    "        return \"key doesn't exist\""
   ]
  },
  {
   "cell_type": "code",
   "execution_count": 17,
   "id": "072224c4-4c00-4ef2-a358-c4f9b495ab52",
   "metadata": {},
   "outputs": [],
   "source": [
    "def get_length(contig,dic,chro_info,dtype = 'bin'):\n",
    "    z = chro_info.iloc[:,0]\n",
    "    z = z.values.tolist()\n",
    "    bin_loc = chro_info.iloc[:,2:4] #get start_bin and end_bin dataframe\n",
    "    start_bin = bin_loc.iloc[:,0]# change to list\n",
    "    end_bin = bin_loc.iloc[:,1]\n",
    "    pp = 0\n",
    "    for i in range(len(z)):\n",
    "        if z[i] == str(get_contig_id(contig,dic)):\n",
    "            pp = i\n",
    "    length_list = chro_info.iloc[:,1].values.tolist()#length list\n",
    "    if dtype == 'length':\n",
    "        return length_list[pp]\n",
    "    elif dtype == 'bin':\n",
    "        return start_bin[pp],end_bin[pp]\n",
    "    else:\n",
    "        return z[pp]"
   ]
  },
  {
   "cell_type": "code",
   "execution_count": 78,
   "id": "d8b4b561-d21e-4e8e-8470-37bede363c0d",
   "metadata": {},
   "outputs": [],
   "source": [
    "def merge_contig(id_list,info,all_dic):\n",
    "    new_list = []\n",
    "    new_list1 = []\n",
    "    length = len(id_list)\n",
    "    for i in range(length):\n",
    "        matrix = all_dic.get(id_list[i])\n",
    "        c_length = get_length(matrix,all_dic,info)\n",
    "        new_list.append(matrix)\n",
    "        new_list1.append(c_length)\n",
    "    labels =np.concatenate(new_list, axis=0)\n",
    "    another_list = []\n",
    "    for i in new_list1:\n",
    "        x = labels[:,i[0]:i[1]]\n",
    "        another_list.append(x)\n",
    "    labelss =np.concatenate(another_list, axis=1)\n",
    "    plt.imshow(labelss ** 0.02, cmap='afmhot_r',norm=colors.PowerNorm(gamma=0.45))\n",
    "    \n",
    "    "
   ]
  }
 ],
 "metadata": {
  "kernelspec": {
   "display_name": "hraaxl_chromo",
   "language": "python",
   "name": "hraaxl_chromo"
  },
  "language_info": {
   "codemirror_mode": {
    "name": "ipython",
    "version": 3
   },
   "file_extension": ".py",
   "mimetype": "text/x-python",
   "name": "python",
   "nbconvert_exporter": "python",
   "pygments_lexer": "ipython3",
   "version": "3.7.13"
  }
 },
 "nbformat": 4,
 "nbformat_minor": 5
}
