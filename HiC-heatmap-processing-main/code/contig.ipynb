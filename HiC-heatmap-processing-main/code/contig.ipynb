{
 "cells": [
  {
   "cell_type": "code",
   "execution_count": 2,
   "id": "29613a4c-d7ad-40e5-b202-e84332db1a5c",
   "metadata": {},
   "outputs": [],
   "source": [
    "import chro_use as cu\n",
    "import column as co\n",
    "import re\n",
    "import json\n",
    "import numpy as np\n",
    "import pandas as pd\n",
    "import cooler\n",
    "import matplotlib.pyplot as plt\n",
    "import matplotlib.colors as colors\n",
    "import chromosight.utils.contacts_map as mapp\n",
    "from IPython.display import display\n",
    "import chromosight.utils.io as io\n",
    "from scipy.signal import find_peaks\n",
    "from scipy import ndimage as ndi\n",
    "import matplotlib.pyplot as plt\n",
    "from skimage.feature import peak_local_max\n",
    "from skimage.transform import resize\n",
    "from skimage import data, img_as_float"
   ]
  },
  {
   "cell_type": "code",
   "execution_count": 1,
   "id": "86dc9fac-484b-48ec-9e2a-7756dabbab1d",
   "metadata": {},
   "outputs": [
    {
     "name": "stdout",
     "output_type": "stream",
     "text": [
      "1\n"
     ]
    }
   ],
   "source": [
    "print(1)"
   ]
  },
  {
   "cell_type": "code",
   "execution_count": 3,
   "id": "72797af2-3257-4c49-a967-655ea860ba51",
   "metadata": {},
   "outputs": [],
   "source": [
    "import chro_use as cu"
   ]
  },
  {
   "cell_type": "code",
   "execution_count": 1,
   "id": "72724a37-1f27-42c0-a59f-11ea3df8f387",
   "metadata": {},
   "outputs": [
    {
     "name": "stdout",
     "output_type": "stream",
     "text": [
      "1\n"
     ]
    }
   ],
   "source": [
    "print(1)"
   ]
  },
  {
   "cell_type": "code",
   "execution_count": null,
   "id": "f5892868-7e4e-4560-81c4-fb1181bff502",
   "metadata": {},
   "outputs": [],
   "source": []
  },
  {
   "cell_type": "code",
   "execution_count": 41,
   "id": "528199ce-da4e-4e11-823b-f2bafda9d1ee",
   "metadata": {},
   "outputs": [],
   "source": [
    "class contig:\n",
    "    def __init__(self,chro_info,splitted_matrix):\n",
    "        self.chro_info = chro_info\n",
    "        self.splitted_matrix = splitted_matrix\n",
    "        \n",
    "        \n",
    "    def get_contig_id(self,matrix,my_dict):\n",
    "        for key, value in my_dict.items():\n",
    "            if np.array_equal(value,matrix):\n",
    "                return key\n",
    " \n",
    "        return \"key doesn't exist\"\n",
    "        \n",
    "    def get_length(self,contig,dic,dtype = 'bin'):\n",
    "        chro_info = self.chro_info\n",
    "        z = chro_info.iloc[:,0]\n",
    "        z = z.values.tolist()\n",
    "        bin_loc = chro_info.iloc[:,2:4] #get start_bin and end_bin dataframe\n",
    "        start_bin = bin_loc.iloc[:,0]# change to list\n",
    "        end_bin = bin_loc.iloc[:,1]\n",
    "        pp = 0\n",
    "        for i in range(len(z)):\n",
    "            if z[i] == str(self.get_contig_id(contig,dic)):\n",
    "                pp = i\n",
    "        length_list = chro_info.iloc[:,1].values.tolist()#length list\n",
    "        if dtype == 'length':\n",
    "            return length_list[pp]\n",
    "        elif dtype == 'bin':\n",
    "            return start_bin[pp],end_bin[pp]\n",
    "        else:\n",
    "            return z[pp]\n",
    "        \n",
    "    def find_ids_contig(self,all_dic,matrix,mode = None,value = 4,f_value = 500000):\n",
    "        z = self.chro_info.iloc[:,0]\n",
    "        bin_loc = self.chro_info.iloc[:,2:4]\n",
    "        start_bin = bin_loc.iloc[:,0]\n",
    "        end_bin = bin_loc.iloc[:,1]\n",
    "        start = start_bin.values.tolist()\n",
    "        end = end_bin.values.tolist()\n",
    "        dd = []\n",
    "        for j in range(len(start)):\n",
    "            if len(dd)>565:\n",
    "                dd.clear\n",
    "            if mode == None:\n",
    "                matrixs = matrix[: , start[j]:end[j]]\n",
    "                dd.append(matrixs.mean())\n",
    "            elif mode == 'smooth':\n",
    "                matrixs = ndi.filters.gaussian_filter(matrix[: , start[j]:end[j]],(3,3))\n",
    "                dd.append(matrixs.mean())\n",
    "            else:\n",
    "                matrixs = matrix[: , start[j]:end[j]]\n",
    "                dd.append(matrixs.mean())\n",
    "        ipo = []\n",
    "        mean = np.mean(dd)\n",
    "        peaks, _ = find_peaks(dd,height = mean * value)\n",
    "        for i in peaks:\n",
    "            if mode == 'filter':\n",
    "                matrix = all_dic.get(z[i])\n",
    "                length = self.get_length(matrix,all_dic,dtype = 'length')\n",
    "                if length >= f_value:\n",
    "                    ipo.append(z[i])\n",
    "            else:\n",
    "                ipo.append(z[i])\n",
    "        return ipo\n",
    "    \n",
    "    def get_score_contig(self,dic,all_dic,mode = None,value = 4,f_value = 500000):\n",
    "        score = 0\n",
    "        for key,values in dic.items():\n",
    "            for i in values:\n",
    "                matrix = all_dic.get(i)\n",
    "                result = self.find_ids_contig(all_dic,matrix,mode,value,f_value)\n",
    "                if key in result:\n",
    "                    score = score + 1\n",
    "        print('peak detection by contig',score) \n",
    "        \n",
    "    def get_score_contig_af(self,dic):\n",
    "        score = 0\n",
    "        for key,values in dic.items():\n",
    "            for i in values:\n",
    "                result = dic.get(i)\n",
    "                if key in result:\n",
    "                    score = score + 1\n",
    "        print('peak detection by contig after filter',score)\n",
    "        \n",
    "    def sort_by_contig(self,all_dic,mode = None, value = 4,f_value = 500000):\n",
    "        new_dict = {}\n",
    "        for i in self.splitted_matrix:\n",
    "            idd = self.get_contig_id(i,all_dic)\n",
    "            ll = self.find_ids_contig(all_dic,i,mode,value,f_value)\n",
    "            new_dict[idd] = ll\n",
    "        return new_dict\n",
    "    \n",
    "    def optimize_result(self,dic,all_dic,mode = None,value = 4,f_value = 500000):\n",
    "        info = self.chro_info\n",
    "        nnn_dic = {}\n",
    "        for key,values in dic.items():\n",
    "            listt = []\n",
    "            for i in values:\n",
    "                matrix = all_dic.get(i)\n",
    "                result = self.find_ids_contig(all_dic,matrix,mode,value,f_value)                \n",
    "                if key in result:\n",
    "                    listt.append(i)\n",
    "            nnn_dic[key] = listt\n",
    "        return nnn_dic\n",
    "    \n",
    "    \n",
    "        \n",
    "\n",
    "        \n",
    "    \n",
    "    "
   ]
  }
 ],
 "metadata": {
  "kernelspec": {
   "display_name": "hraaxl_chromo",
   "language": "python",
   "name": "hraaxl_chromo"
  },
  "language_info": {
   "codemirror_mode": {
    "name": "ipython",
    "version": 3
   },
   "file_extension": ".py",
   "mimetype": "text/x-python",
   "name": "python",
   "nbconvert_exporter": "python",
   "pygments_lexer": "ipython3",
   "version": "3.7.13"
  }
 },
 "nbformat": 4,
 "nbformat_minor": 5
}
